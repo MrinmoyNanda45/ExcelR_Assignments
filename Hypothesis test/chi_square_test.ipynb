{
 "cells": [
  {
   "cell_type": "markdown",
   "metadata": {},
   "source": [
    "# Chi-Square Test for Association between Device Type and Customer Satisfaction\n"
   ]
  },
  {
   "cell_type": "markdown",
   "metadata": {},
   "source": [
    "## Introduction\n",
    "\n",
    "This analysis applies a Chi-Square test to investigate if there is a significant association between the type of device purchased (Smart Thermostats vs. Smart Lights) and customer satisfaction levels at Mizzare Corporation. \n",
    "\n",
    "### Background\n",
    "Mizzare Corporation collected customer satisfaction data across five levels (Very Satisfied, Satisfied, Neutral, Unsatisfied, and Very Unsatisfied) for two types of smart home devices: **Smart Thermostats** and **Smart Lights**.\n",
    "\n",
    "### Dataset\n",
    "The data is presented in a contingency table, showing the counts of customers in each satisfaction level for both device types:\n",
    "\n",
    "| Satisfaction Level   | Smart Thermostat | Smart Light | Total |\n",
    "|----------------------|------------------|-------------|-------|\n",
    "| Very Satisfied       | 50              | 70          | 120   |\n",
    "| Satisfied            | 80              | 100         | 180   |\n",
    "| Neutral              | 60              | 90          | 150   |\n",
    "| Unsatisfied          | 30              | 50          | 80    |\n",
    "| Very Unsatisfied     | 20              | 50          | 70    |\n",
    "| **Total**            | **240**         | **360**     | **600**|\n",
    "\n",
    "### Objective\n",
    "To use the **Chi-Square test for independence** to determine whether there is a statistically significant association between the type of smart home device purchased and the level of customer satisfaction.\n",
    "\n",
    "This analysis will follow the following steps:\n",
    "1. Formulate the Hypotheses.\n",
    "2. Compute the Chi-Square Statistic.\n",
    "3. Determine the Critical Value and the p-value.\n",
    "4. Make a Decision based on the significance level.\n"
   ]
  },
  {
   "cell_type": "markdown",
   "metadata": {},
   "source": [
    "## Hypotheses\n",
    "\n",
    "- **Null Hypothesis (H₀)**: There is no significant association between the type of smart home device (Smart Thermostat or Smart Light) and customer satisfaction levels. (The variables are independent.)\n",
    "\n",
    "- **Alternative Hypothesis (H₁)**: There is a significant association between the type of smart home device and customer satisfaction levels. (The variables are dependent.)\n"
   ]
  },
  {
   "cell_type": "markdown",
   "metadata": {},
   "source": [
    "## Methodology: Chi-Square Test for Independence\n",
    "\n",
    "To test the hypotheses, we will use the Chi-Square statistic formula:\n",
    "\n",
    "The Chi-Square formula is given by :\n",
    "$$\n",
    "\\chi^2 = \\sum \\frac{(O - E)^2}{E}\n",
    "$$\n",
    "\n",
    "\n",
    "\n",
    "Where:\n",
    "- \\( O \\) = Observed frequency (actual counts from the data)\n",
    "- \\( E \\) = Expected frequency (calculated based on the assumption that there is no association between variables)\n",
    "\n",
    "The Chi-Square test will produce:\n",
    "- **Chi-Square Statistic**  $\\chi^2$ : Measures the difference between observed and expected frequencies.\n",
    "- **p-value**: Probability of obtaining a Chi-Square statistic at least as extreme as the observed, under the null hypothesis.\n",
    "- **Degrees of Freedom (df)**: Calculated as $(r - 1) \\times (c - 1)$, where \\( r \\) and \\( c \\) are the number of rows and columns in the table, respectively.\n",
    "- **Critical Value**: The threshold value corresponding to the significance level  $\\alpha$ = 0.05\n",
    "\n",
    "If the p-value is less than 0.05 or the Chi-Square statistic exceeds the critical value, we reject the null hypothesis.\n"
   ]
  },
  {
   "cell_type": "code",
   "execution_count": 4,
   "metadata": {},
   "outputs": [
    {
     "name": "stdout",
     "output_type": "stream",
     "text": [
      "Chi-Square Test Results\n",
      "Chi-Square Statistic: 5.64\n",
      "p-value: 0.228\n",
      "Degrees of Freedom: 4\n",
      "\n",
      "Expected Frequencies (if there was no association):\n",
      "[[ 48.  72.]\n",
      " [ 72. 108.]\n",
      " [ 60.  90.]\n",
      " [ 32.  48.]\n",
      " [ 28.  42.]]\n"
     ]
    }
   ],
   "source": [
    "import numpy as np\n",
    "from scipy.stats import chi2_contingency\n",
    "\n",
    "# Observed data \n",
    "observed = np.array([[50, 70], \n",
    "                     [80, 100], \n",
    "                     [60, 90], \n",
    "                     [30, 50], \n",
    "                     [20, 50]])\n",
    "\n",
    "# Chi-Square test \n",
    "chi2_stat, p_val, dof, expected = chi2_contingency(observed)\n",
    "\n",
    "\n",
    "print(\"Chi-Square Test Results\")\n",
    "print(f\"Chi-Square Statistic: {chi2_stat:.2f}\")\n",
    "print(f\"p-value: {p_val:.3f}\")\n",
    "print(f\"Degrees of Freedom: {dof}\")\n",
    "print(\"\\nExpected Frequencies (if there was no association):\")\n",
    "print(expected)\n"
   ]
  },
  {
   "cell_type": "markdown",
   "metadata": {},
   "source": [
    "## Results and Interpretation\n",
    "\n",
    "With the output of our Chi-Square test, we can now interpret the results and make a conclusion based on the p-value and the Chi-Square critical value at the 0.05 significance level.\n",
    "\n",
    "- **Degrees of Freedom (df)**: $ (r - 1) \\times (c - 1) = (5 - 1) \\times (2 - 1) = 4 $\n",
    "- **Significance Level**: $\\alpha = 0.05$\n",
    "- **Critical Value** for Chi-Square distribution with 4 degrees of freedom at $\\alpha = 0.05$ can be computed as follows:\n"
   ]
  },
  {
   "cell_type": "code",
   "execution_count": 3,
   "metadata": {},
   "outputs": [
    {
     "name": "stdout",
     "output_type": "stream",
     "text": [
      "Critical Value for Chi-Square with df=4 at alpha=0.05: 9.49\n"
     ]
    }
   ],
   "source": [
    "from scipy.stats import chi2\n",
    "\n",
    "# Significance level and degrees of freedom\n",
    "alpha = 0.05\n",
    "dof = 4\n",
    "\n",
    "# Critical value from chi-square distribution\n",
    "critical_value = chi2.ppf(1 - alpha, dof)\n",
    "\n",
    "print(f\"Critical Value for Chi-Square with df={dof} at alpha=0.05: {critical_value:.2f}\")\n"
   ]
  },
  {
   "cell_type": "markdown",
   "metadata": {},
   "source": [
    "## Conclusion\n",
    "\n",
    "After performing the Chi-Square test, we find the following:\n",
    "\n",
    "- **Chi-Square Statistic**: 5.64\n",
    "- **p-value**: 0.228 (greater than 0.05)\n",
    "- **Critical Value**: 9.49 (for $\\alpha = 0.05 $ and 4 degrees of freedom)\n",
    "\n",
    "### Interpretation\n",
    "Since the p-value (0.228) is greater than the significance level (0.05) and the Chi-Square statistic (5.64) is less than the critical value (9.49), we **fail to reject the null hypothesis**. \n",
    "\n",
    "### Final Decision\n",
    "We conclude that there is **no statistically significant association** between the type of device purchased (Smart Thermostat or Smart Light) and the customer satisfaction levels. Therefore, customer satisfaction does not appear to be dependent on the device type in this dataset.\n"
   ]
  },
  {
   "cell_type": "markdown",
   "metadata": {},
   "source": []
  }
 ],
 "metadata": {
  "kernelspec": {
   "display_name": "Python 3",
   "language": "python",
   "name": "python3"
  },
  "language_info": {
   "codemirror_mode": {
    "name": "ipython",
    "version": 3
   },
   "file_extension": ".py",
   "mimetype": "text/x-python",
   "name": "python",
   "nbconvert_exporter": "python",
   "pygments_lexer": "ipython3",
   "version": "3.12.0"
  }
 },
 "nbformat": 4,
 "nbformat_minor": 2
}
