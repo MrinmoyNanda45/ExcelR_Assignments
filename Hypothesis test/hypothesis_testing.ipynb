{
 "cells": [
  {
   "cell_type": "markdown",
   "metadata": {},
   "source": [
    "# Hypothesis Testing for Weekly Operating Costs at Bombay Hospitality Ltd.\n"
   ]
  },
  {
   "cell_type": "markdown",
   "metadata": {},
   "source": [
    "## Background\n",
    "\n",
    "Bombay Hospitality Ltd. operates a franchise model to produce exotic Norwegian dinners across New England. Each franchise incurs weekly operating costs based on a theoretical model:\n",
    "\n",
    "$$\n",
    "W = 1,000 + 5X\n",
    "$$\n",
    "\n",
    "where:\n",
    "- **W** = Weekly operating cost in Rs.\n",
    "- **X** = Number of units produced in a week.\n",
    "\n",
    "Restaurant owners have reported that their observed weekly costs are exceeding this model's prediction. To investigate this, we will use hypothesis testing to determine if there is significant evidence to support the claim that the actual weekly operating costs are higher than those predicted by the model.\n",
    "\n",
    "### Objective\n",
    "\n",
    "To conduct hypothesis testing on the restaurant owners' claim that weekly operating costs have increased beyond the theoretical model.\n"
   ]
  },
  {
   "cell_type": "markdown",
   "metadata": {},
   "source": [
    "## Data Provided\n",
    "\n",
    "- **Theoretical Weekly Cost Model**: $ W = 1,000 + 5X $\n",
    "- **Sample Mean of Weekly Costs**: $ \\bar{x} = 3,050 $ Rs.\n",
    "- **Number of Units Produced in a Week (X)**: Normally distributed with\n",
    "    - Mean $ \\mu = 600 $ units\n",
    "    - Standard deviation $ \\sigma = 25 $ units\n",
    "- **Sample Size (n)**: 25 restaurants\n",
    "\n",
    "Using this information, we can calculate the theoretical mean weekly cost and proceed with the hypothesis test.\n"
   ]
  },
  {
   "cell_type": "markdown",
   "metadata": {},
   "source": [
    "## Hypotheses\n",
    "\n",
    "We will conduct a one-tailed hypothesis test:\n",
    "\n",
    "- **Null Hypothesis (H₀)**: The mean weekly operating cost is not higher than the theoretical cost, $\\mu = $ theoretical mean.\n",
    "- **Alternative Hypothesis (H₁)**: The mean weekly operating cost is higher than the theoretical cost, $ \\mu > $ theoretical mean.\n"
   ]
  },
  {
   "cell_type": "markdown",
   "metadata": {},
   "source": [
    "## Test Statistic Calculation\n",
    "\n",
    "We calculate the test statistic using the formula:\n",
    "\n",
    "$$\n",
    "t = \\frac{\\bar{x} - \\mu}{\\frac{\\sigma}{\\sqrt{n}}}\n",
    "$$\n",
    "\n",
    "Where:\n",
    "- $ \\bar{x} $ = Sample mean of weekly cost = 3,050 Rs.\n",
    "- $ \\mu $ = Theoretical mean weekly cost calculated based on the model.\n",
    "- $ \\sigma = 5 \\times 25 $ (since the weekly cost model multiplies each unit cost by 5)\n",
    "- $ n $ = Sample size = 25\n"
   ]
  },
  {
   "cell_type": "code",
   "execution_count": 1,
   "metadata": {},
   "outputs": [
    {
     "name": "stdout",
     "output_type": "stream",
     "text": [
      "Theoretical Mean Weekly Cost: 4000 Rs.\n",
      "Test Statistic (t): -38.00\n"
     ]
    }
   ],
   "source": [
    "import numpy as np\n",
    "from scipy.stats import norm\n",
    "\n",
    "# Given data\n",
    "sample_mean = 3050  # Rs.\n",
    "n = 25  # sample size\n",
    "unit_mean = 600  # units\n",
    "unit_std_dev = 25  # standard deviation in units\n",
    "\n",
    "# Calculate theoretical mean weekly cost\n",
    "theoretical_mean = 1000 + 5 * unit_mean\n",
    "print(f\"Theoretical Mean Weekly Cost: {theoretical_mean} Rs.\")\n",
    "\n",
    "# Calculate sigma for the weekly operating cost\n",
    "sigma = 5 * unit_std_dev\n",
    "\n",
    "# Calculate the test statistic\n",
    "t_statistic = (sample_mean - theoretical_mean) / (sigma / np.sqrt(n))\n",
    "print(f\"Test Statistic (t): {t_statistic:.2f}\")\n"
   ]
  },
  {
   "cell_type": "markdown",
   "metadata": {},
   "source": [
    "## Determining the Critical Value\n",
    "\n",
    "We use a significance level of 5% ( $ \\alpha = 0.05 $) for this one-tailed test. The critical value $ Z_{0.05} $ for a one-tailed test from the Z-distribution table is 1.645.\n",
    "\n",
    "### Decision Rule\n",
    "- If the test statistic $ t $ is greater than 1.645, we reject the null hypothesis.\n",
    "- Otherwise, we fail to reject the null hypothesis.\n"
   ]
  },
  {
   "cell_type": "code",
   "execution_count": 2,
   "metadata": {},
   "outputs": [
    {
     "name": "stdout",
     "output_type": "stream",
     "text": [
      "Critical Value (Z) for alpha = 0.05: 1.64\n",
      "Decision: Fail to reject the null hypothesis.\n",
      "Conclusion: There is not enough evidence to support the claim that weekly operating costs are higher than the model suggests.\n"
     ]
    }
   ],
   "source": [
    "# Significance level for one-tailed test\n",
    "alpha = 0.05\n",
    "critical_value = norm.ppf(1 - alpha)\n",
    "\n",
    "print(f\"Critical Value (Z) for alpha = 0.05: {critical_value:.2f}\")\n",
    "\n",
    "# Conclusion based on comparison\n",
    "if t_statistic > critical_value:\n",
    "    print(\"Decision: Reject the null hypothesis.\")\n",
    "    print(\"Conclusion: There is strong evidence to support the claim that weekly operating costs are higher than the model suggests.\")\n",
    "else:\n",
    "    print(\"Decision: Fail to reject the null hypothesis.\")\n",
    "    print(\"Conclusion: There is not enough evidence to support the claim that weekly operating costs are higher than the model suggests.\")\n"
   ]
  },
  {
   "cell_type": "markdown",
   "metadata": {},
   "source": [
    "## Final Conclusion\n",
    "\n",
    "Based on the test statistic and the critical value, we conclude:\n",
    "\n",
    "- **If Rejecting the Null Hypothesis**: There is statistically significant evidence to support the restaurant owners' claim that the actual weekly operating costs are higher than the theoretical model predicts.\n",
    "\n",
    "- **If Failing to Reject the Null Hypothesis**: There is no statistically significant evidence to support the claim, and the weekly operating costs may still align with the theoretical model.\n",
    "\n",
    "### Summary\n",
    "This analysis provides insight into whether the theoretical cost model continues to represent the actual weekly operating costs of franchises accurately. Adjustments to the model may be warranted if we find evidence supporting an increase in costs.\n"
   ]
  }
 ],
 "metadata": {
  "kernelspec": {
   "display_name": "Python 3",
   "language": "python",
   "name": "python3"
  },
  "language_info": {
   "codemirror_mode": {
    "name": "ipython",
    "version": 3
   },
   "file_extension": ".py",
   "mimetype": "text/x-python",
   "name": "python",
   "nbconvert_exporter": "python",
   "pygments_lexer": "ipython3",
   "version": "3.12.0"
  }
 },
 "nbformat": 4,
 "nbformat_minor": 2
}
