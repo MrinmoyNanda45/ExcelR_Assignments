{
 "cells": [
  {
   "cell_type": "markdown",
   "metadata": {},
   "source": [
    "### Exercise 1: Prime Numbers\n",
    "Write a Python program that checks whether a given number is prime or not. A prime number is a natural number greater than 1 that has no positive divisors other than 1 and itself.\n"
   ]
  },
  {
   "cell_type": "code",
   "execution_count": 5,
   "metadata": {},
   "outputs": [],
   "source": [
    "def prime():\n",
    "    N = int(input('Enter a number:'))\n",
    "    count = 0\n",
    "    #will check only upto square root of 'N' because if number is divisible by i than it will be divisible by all factors of i\n",
    "    for i in range(1, int(N**0.5) + 1):\n",
    "        if N % i == 0:\n",
    "            count += 1\n",
    "            \n",
    "            #if N is divisible by i than it will also be divisible by N /// i\n",
    "            if N // i != i:\n",
    "                count += 1\n",
    "        \n",
    "        #Early break point from the loop if the count is greater than 2      \n",
    "        if count > 2:\n",
    "            return 'Non-prime'\n",
    "        \n",
    "    if count == 2:\n",
    "        return \"Prime\"\n",
    "    return \"Non - Prime\""
   ]
  },
  {
   "cell_type": "markdown",
   "metadata": {},
   "source": [
    "### Exercise 2: Product of Random Numbers\n",
    "Develop a Python program that generates two random numbers and asks the user to enter the product of these numbers. The program should then check if the user's answer is correct and display an appropriate message.\n"
   ]
  },
  {
   "cell_type": "code",
   "execution_count": 6,
   "metadata": {},
   "outputs": [],
   "source": [
    "# Importing the random module to generate random numbers\n",
    "import random\n",
    "\n",
    "def mult_quiz():\n",
    "    #Random nums\n",
    "    num1 = random.randint(1, 10)\n",
    "    num2 = random.randint(1, 10)\n",
    "    \n",
    "    #Product\n",
    "    correct_answer = num1 * num2\n",
    "    \n",
    "    # Ask the user \n",
    "    print(f\"What is {num1} x {num2}?\")\n",
    "    user_answer = int(input(\"Enter your answer: \"))\n",
    "    \n",
    "    # Check if the user's answer is correct\n",
    "    if user_answer == correct_answer:\n",
    "        print(\"Correct! Well done.\")\n",
    "    else:\n",
    "        print(f\"Incorrect. The correct answer is {correct_answer}.\")"
   ]
  },
  {
   "cell_type": "markdown",
   "metadata": {},
   "source": [
    "### Exercise 3: Squares of Even/Odd Numbers\n",
    "Create a Python script that prints the squares of all even or odd numbers within the range of 100 to 200. Choose either even or odd numbers and document your choice in the code.\n"
   ]
  },
  {
   "cell_type": "code",
   "execution_count": 7,
   "metadata": {},
   "outputs": [],
   "source": [
    "# The squares of all even numbers \n",
    "# in the range of 100 to 200.\n",
    "\n",
    "def squares_of_even():\n",
    "    for num in range(100, 201):\n",
    "        # Check if the number is even \n",
    "        if num % 2 == 0:\n",
    "            square = num * num\n",
    "       \n",
    "        print(f\"The square of {num} is {square}\")"
   ]
  },
  {
   "cell_type": "markdown",
   "metadata": {},
   "source": [
    "### Exercise 4: Word counter\n",
    "write a program to count the number of words in a given text.\n",
    "example:\n",
    "input_text = \"This is a sample text. This text will be used to demonstrate the word counter.\"\n",
    "Expected output:\n",
    "'This': 2 \n",
    "'is': 1\n",
    "'a': 1\n",
    "'sample': 1\n",
    "'text.': 1\n"
   ]
  },
  {
   "cell_type": "code",
   "execution_count": 8,
   "metadata": {},
   "outputs": [],
   "source": [
    "def count_words(input_text):\n",
    "    # Split the input text into a list of words\n",
    "    words = input_text.split()\n",
    "    \n",
    "    # Empty dictionary \n",
    "    word_map = {}\n",
    "    \n",
    "    for word in words:\n",
    "        # If the word is already in the dictionary, increment its count by 1\n",
    "        if word in word_map:\n",
    "            word_map[word] += 1\n",
    "        # If the word is not in the dictionary, add it with a count of 1\n",
    "        else:\n",
    "            word_map[word] = 1\n",
    "    \n",
    "    # Print the word counts\n",
    "    for word, count in word_map.items():\n",
    "        print(f\"'{word}': {count}\")"
   ]
  },
  {
   "cell_type": "markdown",
   "metadata": {},
   "source": [
    "### Exercise 5: Check for Palindrome\n",
    "Write a Python function called is_palindrome that takes a string as input and returns True if the string is a palindrome, and False otherwise. A palindrome is a word, phrase, number, or other sequence of characters that reads the same forward and backward, ignoring spaces, punctuation, and capitalization.\n",
    "Example:\n",
    "Input: \"racecar\"\n",
    "Expected Output: True\n"
   ]
  },
  {
   "cell_type": "code",
   "execution_count": 11,
   "metadata": {},
   "outputs": [],
   "source": [
    "def is_palindrome(input_string):\n",
    "    # Convert the input string to lowercase and remove spaces and punctuation\n",
    "    char_list = []\n",
    "    for char in input_string:\n",
    "        if char.isalnum():\n",
    "            char_list.append(char.lower())\n",
    "        \n",
    "        \n",
    "    cleaned_string = ''.join(char_list)\n",
    "    \n",
    "    # Check if the cleaned string is equal to its reverse\n",
    "    return cleaned_string == cleaned_string[::-1]"
   ]
  }
 ],
 "metadata": {
  "kernelspec": {
   "display_name": "base",
   "language": "python",
   "name": "python3"
  },
  "language_info": {
   "codemirror_mode": {
    "name": "ipython",
    "version": 3
   },
   "file_extension": ".py",
   "mimetype": "text/x-python",
   "name": "python",
   "nbconvert_exporter": "python",
   "pygments_lexer": "ipython3",
   "version": "3.12.4"
  }
 },
 "nbformat": 4,
 "nbformat_minor": 2
}
